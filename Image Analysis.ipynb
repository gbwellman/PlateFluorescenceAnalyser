{
 "cells": [
  {
   "cell_type": "markdown",
   "id": "41f2a1e9-53ff-4291-829e-1eea4253e100",
   "metadata": {},
   "source": [
    "# Image analysis of FP plates to identify proportion of high expressors + (some day) identify clone position with highest FP expression"
   ]
  },
  {
   "cell_type": "markdown",
   "id": "5f2ed607-bd03-4290-804a-06973f7ee51c",
   "metadata": {},
   "source": [
    "### Required Modules"
   ]
  },
  {
   "cell_type": "code",
   "execution_count": 13,
   "id": "73afe6e0-edbe-4316-b5f3-3fbe824393d6",
   "metadata": {},
   "outputs": [],
   "source": [
    "%matplotlib inline\n",
    "from PIL import Image\n",
    "import numpy as np\n",
    "import cv2 # opencv_python\n",
    "import matplotlib.pyplot as plt\n",
    "import statistics"
   ]
  },
  {
   "cell_type": "markdown",
   "id": "c9f50b1d-9a9c-4999-bf4f-e218afcde63f",
   "metadata": {},
   "source": [
    "### Image file souce"
   ]
  },
  {
   "cell_type": "code",
   "execution_count": 14,
   "id": "0b12f585-f5ac-4441-9282-be419a9022a8",
   "metadata": {},
   "outputs": [],
   "source": [
    "analysis_folder = \"Example\" # Folder the images are in to be analysed\n",
    "\n",
    "#A list of the images to be analysed, in order \n",
    "chl_images = [\"Exp1-Chl.tif\",\"Exp2-Chl.tif\",\"Exp3-Chl.tif\"]\n",
    "#                 ↓ The chlorophyll channel corresponds to the FP signal below\n",
    "fp_images = [\"Exp1-YFP.tif\",\"Exp2-YFP.tif\",\"Exp3-YFP.tif\"]\n",
    "\n",
    "#Some custom thresholds for channel fluorescence, ordered as per the images above\n",
    "# This sometimes takes some fine-tuning to ensure proper masking - for example, the top corners of the plate \n",
    "#TODO (one day) detect and then adjust automatically \n",
    "chl_base_threshhold = [25,40,40,40,40,40] \n",
    "fp_base_threshhold = [0,0,0,0,0,0] # Currently not used\n"
   ]
  },
  {
   "cell_type": "markdown",
   "id": "8b4036b4-c17c-4312-8937-a9b3ff2b6c51",
   "metadata": {},
   "source": [
    "### Some custom functions"
   ]
  },
  {
   "cell_type": "code",
   "execution_count": 15,
   "id": "ee0b1e8e-9050-4ce3-ae6d-9386e159cdf7",
   "metadata": {},
   "outputs": [],
   "source": [
    "def ResizeWithAspectRatio(image, width=None, height=None, inter=cv2.INTER_AREA):\n",
    "    ''' Resize a cv2.img for better display \n",
    "    source: https://stackoverflow.com/questions/35180764/opencv-python-image-too-big-to-display    \n",
    "    '''    \n",
    "    dim = None\n",
    "    (h, w) = image.shape[:2]\n",
    "    if width is None and height is None:\n",
    "        return image\n",
    "    if width is None:\n",
    "        r = height / float(h)\n",
    "        dim = (int(w * r), height)\n",
    "    else:\n",
    "        r = width / float(w)\n",
    "        dim = (width, int(h * r))\n",
    "    return cv2.resize(image, dim, interpolation=inter)\n",
    "    "
   ]
  },
  {
   "cell_type": "markdown",
   "id": "c37cec32-ce48-4a50-82b8-b3fd05f4f556",
   "metadata": {},
   "source": [
    "### Now for the magic"
   ]
  },
  {
   "cell_type": "code",
   "execution_count": 16,
   "id": "99c32deb-0fdf-41c7-bfb5-511556dbb588",
   "metadata": {
    "scrolled": true
   },
   "outputs": [
    {
     "data": {
      "image/png": "[encoded data removed]",
      "text/plain": [
       "<Figure size 432x288 with 1 Axes>"
      ]
     },
     "metadata": {
      "needs_background": "light"
     },
     "output_type": "display_data"
    },
    {
     "name": "stdout",
     "output_type": "stream",
     "text": [
      "Exp1 colonies:379\n",
      "Most frequent bin/fluorescence:(16,17) - mode:16.5\n",
      "Max bin/fluorescence:(41,42) - max:41.5\n",
      "Colonies above threshhold(25): 9.0\n"
     ]
    },
    {
     "data": {
      "image/png": "[encoded data removed]",
      "text/plain": [
       "<Figure size 432x288 with 1 Axes>"
      ]
     },
     "metadata": {
      "needs_background": "light"
     },
     "output_type": "display_data"
    },
    {
     "name": "stdout",
     "output_type": "stream",
     "text": [
      "Exp2 colonies:374\n",
      "Most frequent bin/fluorescence:(13,14) - mode:13.5\n",
      "Max bin/fluorescence:(39,40) - max:39.5\n",
      "Colonies above threshhold(25): 25.0\n"
     ]
    },
    {
     "data": {
      "image/png": "[encoded data removed]",
      "text/plain": [
       "<Figure size 432x288 with 1 Axes>"
      ]
     },
     "metadata": {
      "needs_background": "light"
     },
     "output_type": "display_data"
    },
    {
     "name": "stdout",
     "output_type": "stream",
     "text": [
      "Exp3 colonies:380\n",
      "Most frequent bin/fluorescence:(13,14) - mode:13.5\n",
      "Max bin/fluorescence:(51,52) - max:51.5\n",
      "Colonies above threshhold(25): 32.0\n",
      "Summary \n",
      " -------- \n",
      "Exp1 colonies:379\n",
      "Most frequent bin/fluorescence:(16,17) - mode:16.5\n",
      "Max bin/fluorescence:(41,42) - max:41.5\n",
      "Colonies above threshhold(25): 9.0\n",
      "Exp2 colonies:374\n",
      "Most frequent bin/fluorescence:(13,14) - mode:13.5\n",
      "Max bin/fluorescence:(39,40) - max:39.5\n",
      "Colonies above threshhold(25): 25.0\n",
      "Exp3 colonies:380\n",
      "Most frequent bin/fluorescence:(13,14) - mode:13.5\n",
      "Max bin/fluorescence:(51,52) - max:51.5\n",
      "Colonies above threshhold(25): 32.0\n",
      "\n"
     ]
    }
   ],
   "source": [
    "\n",
    "show_mask = False # Set to false to speed up processing when happy with mask\n",
    "\n",
    "# Analysis mode - currently only MODE implimented \n",
    "MODE = 0\n",
    "MEAN = 1\n",
    "intensity_analysis = MODE\n",
    "\n",
    "output_holder = \"Summary \\n -------- \\n\"\n",
    "\n",
    "for idx in range(0,len(chl_images)):\n",
    "    \n",
    "    #Load chlorophyll image \n",
    "    chl = cv2.imread(analysis_folder+\"/\"+chl_images[idx], cv2.IMREAD_GRAYSCALE) \n",
    "    \n",
    "    # Create a mask using the chlorophyll image and binary thresholding - you may need to adjust threshold\n",
    "    _, mask = cv2.threshold(chl, chl_base_threshhold[idx], 255,cv2.THRESH_BINARY)# cv2.THRESH_OTSU)\n",
    "    \n",
    "    # Do some morphological opening to get rid of small artifacts\n",
    "    mask = cv2.morphologyEx(mask, cv2.MORPH_OPEN, cv2.getStructuringElement(cv2.MORPH_ELLIPSE, (5,5))) # If you see spots - you can increase the morph_ellipse size (15,15) → (20,20)\n",
    "    \n",
    "    # compute the connected component    \n",
    "    output = cv2.connectedComponentsWithStats(mask, cv2.CV_32S)\n",
    "    (numLabels, markers, stats, centroids) = output\n",
    "\n",
    "    #Load FP image \n",
    "    fp = cv2.imread(analysis_folder+\"/\"+fp_images[idx], cv2.IMREAD_GRAYSCALE)\n",
    "    \n",
    "    # This is for sorting the colonies so they are more better ordered \n",
    "    for i in range(1, numLabels):        \n",
    "        #TODO, currently not done\n",
    "        break \n",
    "        #print(stats[i])\n",
    "        #[ 795  546   37   39 1134]\n",
    "        # extract the connected component statistics and centroid for the current label\n",
    "        x = stats[i, cv2.CC_STAT_LEFT]\n",
    "        y = stats[i, cv2.CC_STAT_TOP]\n",
    "        w = stats[i, cv2.CC_STAT_WIDTH]\n",
    "        h = stats[i, cv2.CC_STAT_HEIGHT]\n",
    "        area = stats[i, cv2.CC_STAT_AREA]\n",
    "        (cX, cY) = centroids[i]\n",
    "        #Do some sort of sorting\n",
    "    \n",
    "    # Show mask image - if requested\n",
    "    if show_mask:    \n",
    "        #Adjust here to fix the title\n",
    "        title = chl_images[idx][:-8]+\" colonies:\"+str(numLabels)\n",
    "        plt.imshow(mask)\n",
    "        plt.title('Mask: '+title)\n",
    "        plt.show()\n",
    "        resize_mask = ResizeWithAspectRatio(mask, width=1280) # Resize by width OR\n",
    "        cv2.imshow(\"Mask: \"+title, resize_mask)   \n",
    "        #reveal of colonies \n",
    "        if True: \n",
    "            for i in range(1, numLabels):     \n",
    "                componentMask = (markers > i).astype(\"uint8\") * 255 \n",
    "                resize_image = ResizeWithAspectRatio(componentMask, width=1280) # Resize by width \n",
    "                cv2.imshow(\"Mask: \"+title, resize_image)\n",
    "                cv2.waitKey(1)    \t        \n",
    "        cv2.destroyAllWindows()   \n",
    "\n",
    "    #Create a np array as a tally for the fluorescence values\n",
    "    tally = np.zeros(255)\n",
    "    \n",
    "    # labels[0] is the background\n",
    "    for label in range(1,numLabels):\n",
    "        # compute the histogram over the entire 256 levels of intensity\n",
    "        hist, bins = np.histogram(fp[markers==label], bins=range(256))\n",
    "        # do whatever you like to hist\n",
    "        if intensity_analysis == MODE:\n",
    "            tally[hist.argmax()] += 1\n",
    "        else: \n",
    "            #TODO Per\n",
    "            pass \n",
    "    \n",
    "    plt.bar(bins[1:], tally)\n",
    "    title = chl_images[idx][:-8]+\" colonies:\"+str(label)\n",
    "    plt.title(title)\n",
    "    plt.xlabel(\"Intensity (bin)\")\n",
    "    plt.ylabel(\"Frequency\")\n",
    "    plt.xlim(xmin = 0, xmax = 50)\n",
    "    plt.show()    \n",
    "\n",
    "    #Output statistics\n",
    "    mode_index = tally.argmax()\n",
    "    \n",
    "    output_holder += title +\"\\n\"\n",
    "    print(title)\n",
    "    mode_output = 'Most frequent bin/fluorescence:(' + str(bins[mode_index]) + ',' + str(bins[mode_index+1]) + ') - mode:'+ str((bins[mode_index] + bins[mode_index+1])/2)\n",
    "    output_holder += mode_output +\"\\n\"\n",
    "    print(mode_output)\n",
    "    max_index = np.where(tally)[0].max()\n",
    "    max_output = 'Max bin/fluorescence:(' + str(bins[max_index]) + ',' + str(bins[max_index+1]) + ') - max:'+ str((bins[max_index] + bins[max_index+1])/2)\n",
    "    output_holder += max_output +\"\\n\"\n",
    "    print(max_output)\n",
    "    threshhold = 25\n",
    "    count = 0\n",
    "    for a in range(threshhold, len(bins)-1):\n",
    "        count += tally[a]    \n",
    "    threshhold_output = \"Colonies above threshhold(\"+str(threshhold)+\"): \"+str(count)\n",
    "    output_holder += threshhold_output +\"\\n\"\n",
    "    print(threshhold_output)    \n",
    "\n",
    "print(output_holder)\n",
    "\n",
    "cv2.destroyAllWindows()"
   ]
  },
  {
   "cell_type": "code",
   "execution_count": 17,
   "id": "404c90d6-57fc-4c77-a33d-4ad0c276d9fb",
   "metadata": {},
   "outputs": [
    {
     "name": "stdout",
     "output_type": "stream",
     "text": [
      "Summary \n",
      " -------- \n",
      "Exp1 colonies:379\n",
      "Most frequent bin/fluorescence:(16,17) - mode:16.5\n",
      "Max bin/fluorescence:(41,42) - max:41.5\n",
      "Colonies above threshhold(25): 9.0\n",
      "Exp2 colonies:374\n",
      "Most frequent bin/fluorescence:(13,14) - mode:13.5\n",
      "Max bin/fluorescence:(39,40) - max:39.5\n",
      "Colonies above threshhold(25): 25.0\n",
      "Exp3 colonies:380\n",
      "Most frequent bin/fluorescence:(13,14) - mode:13.5\n",
      "Max bin/fluorescence:(51,52) - max:51.5\n",
      "Colonies above threshhold(25): 32.0\n",
      "\n"
     ]
    }
   ],
   "source": [
    "print(output_holder)"
   ]
  },
  {
   "cell_type": "markdown",
   "id": "e9bdd2e6-8ba8-425d-84cd-2ed7c66102c5",
   "metadata": {},
   "source": [
    "### Sources\n",
    "Various discussions used to create\n",
    "\n",
    "https://stackoverflow.com/questions/56412418/how-do-i-make-a-mask-from-one-image-and-then-transfer-it-to-another\n",
    "\n",
    "https://opencv24-python-tutorials.readthedocs.io/en/latest/py_tutorials/py_imgproc/py_morphological_ops/py_morphological_ops.html\n",
    "\n",
    "https://stackoverflow.com/questions/35180764/opencv-python-image-too-big-to-display\n"
   ]
  }
 ],
 "metadata": {
  "kernelspec": {
   "display_name": "Python 3 (ipykernel)",
   "language": "python",
   "name": "python3"
  },
  "language_info": {
   "codemirror_mode": {
    "name": "ipython",
    "version": 3
   },
   "file_extension": ".py",
   "mimetype": "text/x-python",
   "name": "python",
   "nbconvert_exporter": "python",
   "pygments_lexer": "ipython3",
   "version": "3.10.5"
  },
  "widgets": {
   "application/vnd.jupyter.widget-state+json": {
    "state": {},
    "version_major": 2,
    "version_minor": 0
   }
  }
 },
 "nbformat": 4,
 "nbformat_minor": 5
}
